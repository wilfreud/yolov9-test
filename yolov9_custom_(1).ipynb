{
  "nbformat": 4,
  "nbformat_minor": 0,
  "metadata": {
    "colab": {
      "provenance": [],
      "gpuType": "T4"
    },
    "kernelspec": {
      "name": "python3",
      "display_name": "Python 3"
    },
    "language_info": {
      "name": "python"
    },
    "accelerator": "GPU"
  },
  "cells": [
    {
      "cell_type": "code",
      "execution_count": null,
      "metadata": {
        "id": "4IJK5vxecVu_"
      },
      "outputs": [],
      "source": [
        "# `Edit` -> `Notebook settings` -> `Hardware accelerator`, set it to `GPU`, and then click `Save`."
      ]
    },
    {
      "cell_type": "code",
      "source": [
        "!nvidia-smi"
      ],
      "metadata": {
        "id": "ryVsT8l6c0n8"
      },
      "execution_count": null,
      "outputs": []
    },
    {
      "cell_type": "code",
      "source": [
        "import torch\n",
        "\n",
        "# Check PyTorch GPU availability\n",
        "if torch.cuda.is_available():\n",
        "    print(f\"GPU Name: {torch.cuda.get_device_name(0)}\")\n",
        "    print(f\"GPU Is Available: {torch.cuda.is_available()}\")\n",
        "else:\n",
        "    print(\"GPU is not available.\")"
      ],
      "metadata": {
        "id": "rB1xjpaTc19I"
      },
      "execution_count": null,
      "outputs": []
    },
    {
      "cell_type": "code",
      "source": [
        "import numpy as np\n",
        "print(np.__version__)"
      ],
      "metadata": {
        "id": "E_7s_AeAtF_p"
      },
      "execution_count": null,
      "outputs": []
    },
    {
      "cell_type": "code",
      "source": [],
      "metadata": {
        "id": "eVQVdi3sLkha"
      },
      "execution_count": null,
      "outputs": []
    },
    {
      "cell_type": "code",
      "source": [
        "from google.colab import drive\n",
        "drive.mount('/content/gdrive')"
      ],
      "metadata": {
        "id": "Vve2Df6ac5J_"
      },
      "execution_count": null,
      "outputs": []
    },
    {
      "cell_type": "code",
      "source": [
        "# Creating this symbolic link makes it easier to access your Google Drive files from the Colab notebook without having to type the full path /content/gdrive/My Drive/. After running this line, you can access your Google Drive root by referring to /mydrive in your code.\n",
        "!ln -s /content/gdrive/My\\ Drive/ /mydrive"
      ],
      "metadata": {
        "id": "FjwFcdsxfAJ5"
      },
      "execution_count": null,
      "outputs": []
    },
    {
      "cell_type": "code",
      "source": [
        "%cd /mydrive/yolov9"
      ],
      "metadata": {
        "id": "HYLKtU88exvk"
      },
      "execution_count": null,
      "outputs": []
    },
    {
      "cell_type": "code",
      "source": [
        "! ls /mydrive"
      ],
      "metadata": {
        "id": "GwKa2T5qnq1Q"
      },
      "execution_count": null,
      "outputs": []
    },
    {
      "cell_type": "code",
      "source": [
        "!git clone https://github.com/WongKinYiu/yolov9.git"
      ],
      "metadata": {
        "id": "BWDH481Le23b"
      },
      "execution_count": null,
      "outputs": []
    },
    {
      "cell_type": "code",
      "source": [
        "%cd yolov9"
      ],
      "metadata": {
        "id": "oSoEv_IufODx"
      },
      "execution_count": null,
      "outputs": []
    },
    {
      "cell_type": "code",
      "source": [
        " ! pip install -r requirements.txt"
      ],
      "metadata": {
        "id": "O7qgSlIvfQ34"
      },
      "execution_count": null,
      "outputs": []
    },
    {
      "cell_type": "markdown",
      "source": [
        "# Download yolov9 pretrained weights"
      ],
      "metadata": {
        "id": "p5xNg11ng0QI"
      }
    },
    {
      "cell_type": "code",
      "source": [
        "!wget -P /mydrive/yolov9 https://github.com/WongKinYiu/yolov9/releases/download/v0.1/yolov9-c.pt\n",
        "\n",
        "!wget -P /mydrive/yolov9 https://github.com/WongKinYiu/yolov9/releases/download/v0.1/yolov9-e.pt"
      ],
      "metadata": {
        "id": "_byXFmpAfTMx"
      },
      "execution_count": null,
      "outputs": []
    },
    {
      "cell_type": "markdown",
      "source": [
        "# Download a test image for inference"
      ],
      "metadata": {
        "id": "8BIVqY4Mg4xX"
      }
    },
    {
      "cell_type": "code",
      "source": [
        "! wget -P /mydrive/yolov9 -q https://cdn.pixabay.com/photo/2020/04/18/12/23/woman-5059062_960_720.jpg"
      ],
      "metadata": {
        "id": "Mv9OxM3Bg55x"
      },
      "execution_count": null,
      "outputs": []
    },
    {
      "cell_type": "code",
      "source": [
        "! python detect.py --weights /mydrive/yolov9/yolov9-e.pt --source /mydrive/yolov9/woman-5059062_960_720.jpg --device 0"
      ],
      "metadata": {
        "id": "PExLcrfYh-az"
      },
      "execution_count": null,
      "outputs": []
    },
    {
      "cell_type": "markdown",
      "source": [
        "If you get this error:   AttributeError: 'list' object has no attribute 'device'\n",
        "\n",
        "Then open utils/general.py file and go to line no 903 and write this prediction = prediction[0][1]"
      ],
      "metadata": {
        "id": "q-EZtMBaivD6"
      }
    },
    {
      "cell_type": "code",
      "source": [
        "import os\n",
        "print(os.getcwd())"
      ],
      "metadata": {
        "id": "dodfT0Lllbn-"
      },
      "execution_count": null,
      "outputs": []
    },
    {
      "cell_type": "code",
      "source": [
        "from IPython.display import Image\n",
        "\n",
        "Image(filename=\"OIP.jpg\", width=1000)"
      ],
      "metadata": {
        "id": "gF5Rpbzdiwae"
      },
      "execution_count": null,
      "outputs": []
    },
    {
      "cell_type": "markdown",
      "source": [
        "## Training yolov9 on custom dataset\n",
        "\n",
        "#### Download Dataset: https://universe.roboflow.com/roboflow-100/furniture-ngpea\n",
        "\n",
        "Paste the dataset folder in your drive\n",
        "\n",
        "#####  1- In yolov9 repo paste this data.yaml file\n",
        "\n",
        "##### 2- Create a copy of models/detect/yolov9.yaml file and name it yolov9_custom.yaml.\n",
        "Open it and change the value of nc as per your custom model"
      ],
      "metadata": {
        "id": "9Qm0N3H0kN70"
      }
    },
    {
      "cell_type": "code",
      "source": [
        "! pwd"
      ],
      "metadata": {
        "id": "HAD0E_eES4fV"
      },
      "execution_count": null,
      "outputs": []
    },
    {
      "cell_type": "code",
      "source": [
        "#%cd yolov9\n",
        "\n",
        "!python train_dual.py --workers 8 --batch 4  --img 640 --epochs 50 --data /mydrive/yolov9/yolov9/data.yaml --weights /mydrive/yolov9/yolov9-e.pt --device cuda --cfg /mydrive/yolov9/yolov9/models/detect/yolov9_custom.yaml --hyp /mydrive/yolov9/yolov9/data/hyps/hyp.scratch-high.yaml\n"
      ],
      "metadata": {
        "id": "PGoeRecFkT8m"
      },
      "execution_count": null,
      "outputs": []
    },
    {
      "cell_type": "code",
      "source": [],
      "metadata": {
        "id": "N9MBqSR8xnfH"
      },
      "execution_count": null,
      "outputs": []
    },
    {
      "cell_type": "code",
      "source": [
        "! pwd"
      ],
      "metadata": {
        "id": "E7qi0vFxxwQk"
      },
      "execution_count": null,
      "outputs": []
    },
    {
      "cell_type": "markdown",
      "source": [
        "Results are saved in runs/train/exp folder"
      ],
      "metadata": {
        "id": "j7_rXTuVnvAU"
      }
    },
    {
      "cell_type": "code",
      "source": [
        "# from IPython.display import Image\n",
        "\n",
        "# Image(filename=\"/mydrive/yolov9/yolov9/runs/train/exp8/results.png\", width=600)"
      ],
      "metadata": {
        "id": "ZpmVWRfZnx7m"
      },
      "execution_count": null,
      "outputs": []
    },
    {
      "cell_type": "markdown",
      "source": [
        "##  Inference with Custom Model"
      ],
      "metadata": {
        "id": "nAxZTT-Wn7gh"
      }
    },
    {
      "cell_type": "code",
      "source": [
        "!python detect.py --img 1280 --conf 0.1 --device 0 --weights /mydrive/yolov9/yolov9/runs/train/exp9/weights/best.pt --source /mydrive/yolov9/furniture.jpg"
      ],
      "metadata": {
        "id": "cLSps5xNn8CZ"
      },
      "execution_count": null,
      "outputs": []
    },
    {
      "cell_type": "code",
      "source": [
        "from IPython.display import Image\n",
        "Image(filename=\"/mydrive/yolov9/yolov9/runs/detect/exp2/furniture.jpg\", width=600)"
      ],
      "metadata": {
        "id": "cVO0ObdBu3pf"
      },
      "execution_count": null,
      "outputs": []
    },
    {
      "cell_type": "code",
      "source": [],
      "metadata": {
        "id": "aP6nfEoRvS_d"
      },
      "execution_count": null,
      "outputs": []
    }
  ]
}